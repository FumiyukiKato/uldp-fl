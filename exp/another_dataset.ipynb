{
 "cells": [
  {
   "cell_type": "markdown",
   "metadata": {},
   "source": [
    "# Try another dataset"
   ]
  },
  {
   "cell_type": "code",
   "execution_count": 1,
   "metadata": {},
   "outputs": [],
   "source": [
    "from autodp import rdp_acct\n",
    "import matplotlib.pyplot as plt\n",
    "import seaborn as sns\n",
    "import numpy as np\n",
    "import itertools\n",
    "\n",
    "\n",
    "import os\n",
    "path_project = os.path.dirname(os.path.abspath('.'))\n",
    "import sys\n",
    "sys.path.append(os.path.join(path_project, 'src'))\n",
    "sys.path.append(os.path.join(path_project, 'exp/script'))\n",
    "\n",
    "import options\n",
    "\n",
    "img_path = os.path.join(path_project, 'exp', 'img')\n",
    "pickle_path = os.path.join(path_project, 'exp', 'pickle')\n",
    "results_path = os.path.join(path_project, 'exp', 'results')\n",
    "default_args = options.build_default_args(path_project)\n",
    "\n",
    "import copy\n",
    "from run_simulation import run_simulation\n",
    "\n",
    "from mylogger import logger_set_debug, logger_set_info, logger_set_warning\n",
    "from opacus.accountants import RDPAccountant\n",
    "\n",
    "import pickle\n",
    "\n",
    "dataset_path = os.path.join(path_project, 'dataset')"
   ]
  },
  {
   "cell_type": "markdown",
   "metadata": {},
   "source": [
    "## Body performance\n",
    "https://www.kaggle.com/datasets/kukuroo3/body-performance-data"
   ]
  },
  {
   "cell_type": "code",
   "execution_count": 50,
   "metadata": {},
   "outputs": [],
   "source": [
    "from sklearn.model_selection import train_test_split\n",
    "import torch\n",
    "import torch.nn as nn\n",
    "import torch.optim as optim\n",
    "from torch.utils.data import DataLoader, TensorDataset\n",
    "from sklearn.model_selection import KFold\n",
    "from sklearn.metrics import accuracy_score\n",
    "import pandas as pd"
   ]
  },
  {
   "cell_type": "code",
   "execution_count": 51,
   "metadata": {},
   "outputs": [],
   "source": [
    "df = pd.read_csv(os.path.join(dataset_path, \"body\", \"bodyPerformance.csv\"))"
   ]
  },
  {
   "cell_type": "code",
   "execution_count": 52,
   "metadata": {},
   "outputs": [],
   "source": [
    "df.drop_duplicates(inplace=True)\n",
    "df = df.replace({'M':0, 'F':1})\n",
    "df = df.replace({'A':1,'B':2,'C':3,'D':4})\n",
    "X = df.iloc[:, :-1].values    # Independent variable\n",
    "y = df.iloc[:, -1].values     # Dependent variable\n",
    "\n",
    "# クラス値を整数にエンコード\n",
    "encoder = LabelEncoder()\n",
    "encoder.fit(y)\n",
    "encoded_Y = encoder.transform(y)\n",
    "\n",
    "\n",
    "# PyTorchテンソルへの変換\n",
    "X_tensor = torch.tensor(X, dtype=torch.float32)\n",
    "y_tensor = torch.tensor(encoded_Y, dtype=torch.long)"
   ]
  },
  {
   "cell_type": "code",
   "execution_count": 41,
   "metadata": {},
   "outputs": [
    {
     "name": "stdout",
     "output_type": "stream",
     "text": [
      "\n",
      "Fold: 1\n",
      "Accuracy: 0.723404255319149\n",
      "\n",
      "Fold: 2\n",
      "Accuracy: 0.711832773422919\n",
      "\n",
      "Fold: 3\n",
      "Accuracy: 0.6971620612397311\n",
      "\n",
      "Fold: 4\n",
      "Accuracy: 0.7106049290515309\n",
      "\n",
      "Fold: 5\n",
      "Accuracy: 0.7233009708737864\n",
      "Mean Accuracy: 0.7132609979814233\n"
     ]
    }
   ],
   "source": [
    "import torch\n",
    "import torch.nn as nn\n",
    "\n",
    "class ANNModel(nn.Module):\n",
    "    def __init__(self, input_dim, output_dim):\n",
    "        super(ANNModel, self).__init__()\n",
    "        self.fc1 = nn.Linear(input_dim, 20)\n",
    "        self.fc2 = nn.Linear(20, 35)\n",
    "        self.fc3 = nn.Linear(35, 50)\n",
    "        self.fc4 = nn.Linear(50, 65)\n",
    "        self.dropout1 = nn.Dropout(0.2)\n",
    "        self.fc5 = nn.Linear(65, 80)\n",
    "        self.dropout2 = nn.Dropout(0.2)\n",
    "        self.fc6 = nn.Linear(80, 55)\n",
    "        self.fc7 = nn.Linear(55, 35)\n",
    "        self.fc8 = nn.Linear(35, output_dim)\n",
    "        \n",
    "    def forward(self, x):\n",
    "        x = torch.relu(self.fc1(x))\n",
    "        x = torch.relu(self.fc2(x))\n",
    "        x = torch.relu(self.fc3(x))\n",
    "        x = self.dropout1(torch.relu(self.fc4(x)))\n",
    "        x = self.dropout2(torch.relu(self.fc5(x)))\n",
    "        x = torch.relu(self.fc6(x))\n",
    "        x = torch.relu(self.fc7(x))\n",
    "        x = self.fc8(x)  # Softmaxは後で適用\n",
    "        return x\n",
    "\n",
    "input_dim = 11  # 入力特徴量の数\n",
    "output_dim = 4  # 出力クラスの数\n",
    "learning_rate = 0.001\n",
    "batch_size = 128\n",
    "\n",
    "\n",
    "# 交差検証\n",
    "kf = KFold(n_splits=5, shuffle=True)\n",
    "acc_scores = []\n",
    "\n",
    "for fold, (train_idx, val_idx) in enumerate(kf.split(X)):\n",
    "    print('\\nFold:', fold + 1)\n",
    "\n",
    "    # データセットを訓練用と検証用に分割\n",
    "    X_train, y_train = X_tensor[train_idx], y_tensor[train_idx]\n",
    "    X_val, y_val = X_tensor[val_idx], y_tensor[val_idx]\n",
    "\n",
    "    train_dataset = TensorDataset(X_train, y_train)\n",
    "    val_dataset = TensorDataset(X_val, y_val)\n",
    "\n",
    "    train_loader = DataLoader(dataset=train_dataset, batch_size=batch_size, shuffle=True)\n",
    "    val_loader = DataLoader(dataset=val_dataset, batch_size=batch_size, shuffle=False)\n",
    "\n",
    "    model = ANNModel(input_dim, output_dim)\n",
    "    criterion = nn.CrossEntropyLoss()\n",
    "    optimizer = optim.Adam(model.parameters(), lr=learning_rate)\n",
    "\n",
    "    # 訓練ループ\n",
    "    epochs = 200\n",
    "    for epoch in range(epochs):\n",
    "        for i, (inputs, labels) in enumerate(train_loader):\n",
    "            optimizer.zero_grad()\n",
    "            outputs = model(inputs)\n",
    "            loss = criterion(outputs, labels)\n",
    "            loss.backward()\n",
    "            optimizer.step()\n",
    "\n",
    "        # print(f\"Epoch {epoch+1}/{epochs}, Loss: {loss.item()}\")\n",
    "\n",
    "    # 検証\n",
    "    model.eval()\n",
    "    y_pred = []\n",
    "    y_true = []\n",
    "    with torch.no_grad():\n",
    "        for data, target in val_loader:\n",
    "            output = model(data)\n",
    "            _, predicted = torch.max(output.data, 1)\n",
    "            y_pred.extend(predicted.numpy())\n",
    "            y_true.extend(target.numpy())\n",
    "\n",
    "    acc = accuracy_score(y_true, y_pred)\n",
    "    acc_scores.append(acc)\n",
    "    print('Accuracy:', acc)\n",
    "\n",
    "print('Mean Accuracy:', sum(acc_scores) / len(acc_scores))"
   ]
  }
 ],
 "metadata": {
  "kernelspec": {
   "display_name": "acsilo",
   "language": "python",
   "name": "python3"
  },
  "language_info": {
   "codemirror_mode": {
    "name": "ipython",
    "version": 3
   },
   "file_extension": ".py",
   "mimetype": "text/x-python",
   "name": "python",
   "nbconvert_exporter": "python",
   "pygments_lexer": "ipython3",
   "version": "3.9.2"
  }
 },
 "nbformat": 4,
 "nbformat_minor": 2
}
